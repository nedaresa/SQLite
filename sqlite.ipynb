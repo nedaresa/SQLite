{
 "cells": [
  {
   "cell_type": "code",
   "execution_count": 2,
   "metadata": {},
   "outputs": [],
   "source": [
    "import sqlite3\n",
    "import pandas as pd\n",
    "import os"
   ]
  },
  {
   "cell_type": "code",
   "execution_count": 4,
   "metadata": {},
   "outputs": [],
   "source": [
    "db = os.path.abspath('database.db')"
   ]
  },
  {
   "cell_type": "code",
   "execution_count": 6,
   "metadata": {},
   "outputs": [
    {
     "name": "stdout",
     "output_type": "stream",
     "text": [
      "Tables in the database: []\n"
     ]
    }
   ],
   "source": [
    "#check the databse tables\n",
    "with sqlite3.connect(os.path.abspath(db)) as conn:\n",
    "    cursor = conn.cursor()\n",
    "    cursor.execute(\"select name from sqlite_master WHERE type='table';\")\n",
    "    tables = cursor.fetchall()\n",
    "    print(\"Tables in the database:\", tables)\n",
    "    for table in tables:\n",
    "        query = f'select * from {table[0]}' \n",
    "        df = pd.read_sql_query(query, conn)\n",
    "        print(df.head())"
   ]
  },
  {
   "cell_type": "code",
   "execution_count": 203,
   "metadata": {},
   "outputs": [],
   "source": [
    "# # Drop all tables \n",
    "with sqlite3.connect(os.path.abspath(db)) as conn:\n",
    "    cursor = conn.cursor()\n",
    "    cursor.execute(\"select name from sqlite_master WHERE type='table';\")\n",
    "    tables = cursor.fetchall()\n",
    "    for table in tables:\n",
    "        cursor.execute(f\"drop table if exists {table[0]}\")\n",
    "    conn.commit()"
   ]
  },
  {
   "cell_type": "code",
   "execution_count": 204,
   "metadata": {},
   "outputs": [],
   "source": [
    "#read: https://www.sqlite.org/lang_datefunc.html\n",
    "with sqlite3.connect(os.path.abspath(db)) as conn:\n",
    "    cursor = conn.cursor()\n",
    "    #text \n",
    "    cursor.execute('create table if not exists table1(d1 text)')\n",
    "    cursor.execute(\"insert into table1(d1) values (datetime('now'))\")\n",
    "    #real \n",
    "    cursor.execute(\"create table if not exists table2(d1 real)\")\n",
    "    cursor.execute(\"insert into table2(d1) values (julianday('now'))\")\n",
    "\n",
    "    #int \n",
    "    cursor.execute('create table if not exists table3(d1 int)')\n",
    "    cursor.execute(\"insert into table3(d1) values (strftime('%s','now'))\")\n",
    "\n",
    "    query1 = 'select *, typeof(d1) from table1'\n",
    "    query2 = 'select *, typeof(d1) from table2'\n",
    "    query3 = \"select *, typeof(d1) from table3\"\n",
    "    #instead of df, use: cursor.execute(query).fetchall()\n",
    "    df1 = pd.read_sql_query(query1, conn)\n",
    "    df2 = pd.read_sql_query(query2, conn)\n",
    "    df3 = pd.read_sql_query(query3, conn)\n",
    "\n",
    "    "
   ]
  },
  {
   "cell_type": "code",
   "execution_count": 205,
   "metadata": {},
   "outputs": [
    {
     "data": {
      "text/plain": [
       "[('2024-10-22 00:15:49', None, None, None, 'null'),\n",
       " (None, 'NUTS', 'G', 29, 'integer'),\n",
       " (None, 'Park', 'G', 30, 'integer'),\n",
       " (None, 'Extra', 'G', 22, 'integer'),\n",
       " (None, 'Control', 'PG', 20, 'integer'),\n",
       " (None, 'excited', 'G', 39, 'integer'),\n",
       " (None, 'Control', 'PG', 20, 'integer'),\n",
       " (None, 'excited', 'G', 19, 'integer'),\n",
       " (None, 'City', 'PG', 10, 'integer'),\n",
       " (None, 'excited', 'G', 19, 'integer')]"
      ]
     },
     "execution_count": 205,
     "metadata": {},
     "output_type": "execute_result"
    }
   ],
   "source": [
    "with sqlite3.connect(db) as conn:\n",
    "    cursor = conn.cursor()\n",
    "    cursor.execute(\"alter table table1 add 'title' varchar\")\n",
    "    cursor.execute(\"alter table table1 add 'rating' varchar\")\n",
    "    cursor.execute(\"alter table table1 add 'cost' int\")\n",
    "    cursor.execute(\"insert into table1('title', 'rating','cost') values('NUTS', 'G', 29), ('Park','G',30),('Extra', 'G', 22),('Control', 'PG', 20),('excited', 'G', 39),('Control', 'PG', 20),('excited', 'G', 19),('City', 'PG', 10),('excited', 'G', 19)\")\n",
    "    table1 = cursor.execute(\"select *, typeof(cost) from table1\").fetchall()\n",
    "table1\n",
    "\n"
   ]
  },
  {
   "cell_type": "code",
   "execution_count": null,
   "metadata": {},
   "outputs": [],
   "source": [
    "#windows function\n",
    "#RANK vs ROW_NUMBER: RANK assigns the same unique values for ties and assigns the next value with the total rows up to that row. \n",
    "with sqlite3.connect(db) as conn:\n",
    "    cursor = conn.cursor()\n",
    "    #test index cost for optimization\n",
    "    cursor.execute(\"create index cost_idx on table1('cost')\")\n",
    "    table = cursor.execute(\"select *, avg(cost) over(partition by rating) as avg_cost from table1\").fetchall()\n",
    "    print(table)\n",
    "    table = cursor.execute(\"select *, max(cost) over(partition by rating) as max_cost, sum(cost) over() as overall from table1\").fetchall()\n",
    "    print(table)\n",
    "    table = cursor.execute(\"select *, row_number() over(order by cost desc) as row_cost from table1\").fetchall()\n",
    "    print(table)\n",
    "    table = cursor.execute(\"select *, row_number() over(partition by rating) as row_rating_cost from table1\").fetchall()\n",
    "    print(table)\n",
    "    table = cursor.execute(\"select *, rank() over(order by cost desc) as rank_cost from table1\").fetchall()\n",
    "    print(table)\n",
    "    table = cursor.execute(\"select *, rank() over(partition by rating order by cost desc) as rank_rating_cost from table1\").fetchall()\n",
    "    print(table)\n",
    "    table = cursor.execute(\"select *, dense_rank() over(order by cost desc) as denserank_rating_cost from table1\").fetchall()\n",
    "    print(table)"
   ]
  },
  {
   "cell_type": "code",
   "execution_count": null,
   "metadata": {},
   "outputs": [],
   "source": []
  }
 ],
 "metadata": {
  "kernelspec": {
   "display_name": "ds",
   "language": "python",
   "name": "python3"
  },
  "language_info": {
   "codemirror_mode": {
    "name": "ipython",
    "version": 3
   },
   "file_extension": ".py",
   "mimetype": "text/x-python",
   "name": "python",
   "nbconvert_exporter": "python",
   "pygments_lexer": "ipython3",
   "version": "3.8.16"
  }
 },
 "nbformat": 4,
 "nbformat_minor": 2
}
